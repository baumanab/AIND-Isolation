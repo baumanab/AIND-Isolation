{
 "cells": [
  {
   "cell_type": "code",
   "execution_count": 30,
   "metadata": {
    "collapsed": false
   },
   "outputs": [
    {
     "name": "stdout",
     "output_type": "stream",
     "text": [
      "Populating the interactive namespace from numpy and matplotlib\n"
     ]
    },
    {
     "name": "stderr",
     "output_type": "stream",
     "text": [
      "C:\\Users\\Andrew\\Anaconda2\\lib\\site-packages\\IPython\\core\\magics\\pylab.py:161: UserWarning: pylab import has clobbered these variables: ['test']\n",
      "`%matplotlib` prevents importing * from pylab and numpy\n",
      "  \"\\n`%matplotlib` prevents importing * from pylab and numpy\"\n"
     ]
    }
   ],
   "source": [
    "import pandas as pd\n",
    "import numpy as np\n",
    "import seaborn as sns\n",
    "from matplotlib import pyplot\n",
    "%pylab inline"
   ]
  },
  {
   "cell_type": "code",
   "execution_count": 2,
   "metadata": {
    "collapsed": true
   },
   "outputs": [],
   "source": [
    "agg_results= pd.read_csv('aggregated_results.csv')"
   ]
  },
  {
   "cell_type": "code",
   "execution_count": 3,
   "metadata": {
    "collapsed": true
   },
   "outputs": [],
   "source": [
    "agg_results= agg_results.sort_values('agent')"
   ]
  },
  {
   "cell_type": "code",
   "execution_count": 4,
   "metadata": {
    "collapsed": false
   },
   "outputs": [
    {
     "data": {
      "text/html": [
       "<div>\n",
       "<table border=\"1\" class=\"dataframe\">\n",
       "  <thead>\n",
       "    <tr style=\"text-align: right;\">\n",
       "      <th></th>\n",
       "      <th>agent</th>\n",
       "      <th>scoring_function</th>\n",
       "      <th>student_scoring_function</th>\n",
       "      <th>Success_Rate</th>\n",
       "      <th>Round</th>\n",
       "    </tr>\n",
       "  </thead>\n",
       "  <tbody>\n",
       "    <tr>\n",
       "      <th>0</th>\n",
       "      <td>ID_Improved</td>\n",
       "      <td>improved_score</td>\n",
       "      <td>weighted_moves</td>\n",
       "      <td>65.29</td>\n",
       "      <td>1</td>\n",
       "    </tr>\n",
       "    <tr>\n",
       "      <th>2</th>\n",
       "      <td>ID_Improved</td>\n",
       "      <td>improved_score</td>\n",
       "      <td>center_weighted</td>\n",
       "      <td>69.14</td>\n",
       "      <td>2</td>\n",
       "    </tr>\n",
       "    <tr>\n",
       "      <th>4</th>\n",
       "      <td>ID_Improved</td>\n",
       "      <td>improved_score</td>\n",
       "      <td>center_decay</td>\n",
       "      <td>74.43</td>\n",
       "      <td>3</td>\n",
       "    </tr>\n",
       "    <tr>\n",
       "      <th>1</th>\n",
       "      <td>Student</td>\n",
       "      <td>weighted_moves</td>\n",
       "      <td>weighted_moves</td>\n",
       "      <td>70.43</td>\n",
       "      <td>1</td>\n",
       "    </tr>\n",
       "    <tr>\n",
       "      <th>3</th>\n",
       "      <td>Student</td>\n",
       "      <td>center_weighted</td>\n",
       "      <td>center_weighted</td>\n",
       "      <td>71.86</td>\n",
       "      <td>2</td>\n",
       "    </tr>\n",
       "    <tr>\n",
       "      <th>5</th>\n",
       "      <td>Student</td>\n",
       "      <td>center_decay</td>\n",
       "      <td>center_decay</td>\n",
       "      <td>79.00</td>\n",
       "      <td>3</td>\n",
       "    </tr>\n",
       "  </tbody>\n",
       "</table>\n",
       "</div>"
      ],
      "text/plain": [
       "         agent scoring_function student_scoring_function  Success_Rate  Round\n",
       "0  ID_Improved   improved_score           weighted_moves         65.29      1\n",
       "2  ID_Improved   improved_score          center_weighted         69.14      2\n",
       "4  ID_Improved   improved_score             center_decay         74.43      3\n",
       "1      Student   weighted_moves           weighted_moves         70.43      1\n",
       "3      Student  center_weighted          center_weighted         71.86      2\n",
       "5      Student     center_decay             center_decay         79.00      3"
      ]
     },
     "execution_count": 4,
     "metadata": {},
     "output_type": "execute_result"
    }
   ],
   "source": [
    "agg_results"
   ]
  },
  {
   "cell_type": "code",
   "execution_count": 34,
   "metadata": {
    "collapsed": false
   },
   "outputs": [],
   "source": [
    "test= sns.color_palette('pastel')[2:]"
   ]
  },
  {
   "cell_type": "code",
   "execution_count": 65,
   "metadata": {
    "collapsed": false,
    "scrolled": true
   },
   "outputs": [
    {
     "data": {
      "text/plain": [
       "<seaborn.axisgrid.FacetGrid at 0xf043898>"
      ]
     },
     "execution_count": 65,
     "metadata": {},
     "output_type": "execute_result"
    },
    {
     "data": {
      "image/png": "[encoded data removed]",
      "text/plain": [
       "<matplotlib.figure.Figure at 0xf043358>"
      ]
     },
     "metadata": {},
     "output_type": "display_data"
    }
   ],
   "source": [
    "# Draw a nested barplot\n",
    "sns.set(style=\"whitegrid\")\n",
    "g = sns.factorplot(x=\"student_scoring_function\", y=\"Success_Rate\", hue= 'agent',data= agg_results,\n",
    "                   size=6, kind=\"bar\",palette= test)\n",
    "g.despine(left=True)\n",
    "g.set_ylabels(\"Success Rate\")\n",
    "g.set_xlabels(\"Student Scoring Function\")\n",
    "\n"
   ]
  },
  {
   "cell_type": "code",
   "execution_count": 66,
   "metadata": {
    "collapsed": false
   },
   "outputs": [],
   "source": [
    "g.savefig('success_rate.png')"
   ]
  },
  {
   "cell_type": "code",
   "execution_count": 8,
   "metadata": {
    "collapsed": true
   },
   "outputs": [],
   "source": [
    "match_results= pd.read_csv('match_results.csv')"
   ]
  },
  {
   "cell_type": "code",
   "execution_count": 9,
   "metadata": {
    "collapsed": false
   },
   "outputs": [],
   "source": [
    "match_results= match_results.sort_values('agent')"
   ]
  },
  {
   "cell_type": "code",
   "execution_count": 10,
   "metadata": {
    "collapsed": false
   },
   "outputs": [
    {
     "data": {
      "text/html": [
       "<div>\n",
       "<table border=\"1\" class=\"dataframe\">\n",
       "  <thead>\n",
       "    <tr style=\"text-align: right;\">\n",
       "      <th></th>\n",
       "      <th>agent</th>\n",
       "      <th>scoring_function</th>\n",
       "      <th>student_scoring_function</th>\n",
       "      <th>opponent</th>\n",
       "      <th>agent_wins</th>\n",
       "      <th>opponent_wins</th>\n",
       "      <th>total_matches</th>\n",
       "      <th>round</th>\n",
       "    </tr>\n",
       "  </thead>\n",
       "  <tbody>\n",
       "    <tr>\n",
       "      <th>0</th>\n",
       "      <td>ID_Improved</td>\n",
       "      <td>improved_score</td>\n",
       "      <td>weighted_moves</td>\n",
       "      <td>Random</td>\n",
       "      <td>83</td>\n",
       "      <td>17</td>\n",
       "      <td>100</td>\n",
       "      <td>1</td>\n",
       "    </tr>\n",
       "    <tr>\n",
       "      <th>34</th>\n",
       "      <td>ID_Improved</td>\n",
       "      <td>improved_score</td>\n",
       "      <td>center_decay</td>\n",
       "      <td>AB_Improved</td>\n",
       "      <td>100</td>\n",
       "      <td>0</td>\n",
       "      <td>100</td>\n",
       "      <td>3</td>\n",
       "    </tr>\n",
       "    <tr>\n",
       "      <th>33</th>\n",
       "      <td>ID_Improved</td>\n",
       "      <td>improved_score</td>\n",
       "      <td>center_decay</td>\n",
       "      <td>AB_Open</td>\n",
       "      <td>74</td>\n",
       "      <td>26</td>\n",
       "      <td>100</td>\n",
       "      <td>3</td>\n",
       "    </tr>\n",
       "    <tr>\n",
       "      <th>32</th>\n",
       "      <td>ID_Improved</td>\n",
       "      <td>improved_score</td>\n",
       "      <td>center_decay</td>\n",
       "      <td>AB_Null</td>\n",
       "      <td>74</td>\n",
       "      <td>26</td>\n",
       "      <td>100</td>\n",
       "      <td>3</td>\n",
       "    </tr>\n",
       "    <tr>\n",
       "      <th>31</th>\n",
       "      <td>ID_Improved</td>\n",
       "      <td>improved_score</td>\n",
       "      <td>center_decay</td>\n",
       "      <td>MM_Improved</td>\n",
       "      <td>54</td>\n",
       "      <td>46</td>\n",
       "      <td>100</td>\n",
       "      <td>3</td>\n",
       "    </tr>\n",
       "  </tbody>\n",
       "</table>\n",
       "</div>"
      ],
      "text/plain": [
       "          agent scoring_function student_scoring_function     opponent  \\\n",
       "0   ID_Improved   improved_score           weighted_moves       Random   \n",
       "34  ID_Improved   improved_score             center_decay  AB_Improved   \n",
       "33  ID_Improved   improved_score             center_decay      AB_Open   \n",
       "32  ID_Improved   improved_score             center_decay      AB_Null   \n",
       "31  ID_Improved   improved_score             center_decay  MM_Improved   \n",
       "\n",
       "    agent_wins  opponent_wins  total_matches  round  \n",
       "0           83             17            100      1  \n",
       "34         100              0            100      3  \n",
       "33          74             26            100      3  \n",
       "32          74             26            100      3  \n",
       "31          54             46            100      3  "
      ]
     },
     "execution_count": 10,
     "metadata": {},
     "output_type": "execute_result"
    }
   ],
   "source": [
    "match_results.head()"
   ]
  },
  {
   "cell_type": "code",
   "execution_count": 63,
   "metadata": {
    "collapsed": false
   },
   "outputs": [
    {
     "data": {
      "text/plain": [
       "<seaborn.axisgrid.FacetGrid at 0xf1cd3c8>"
      ]
     },
     "execution_count": 63,
     "metadata": {},
     "output_type": "execute_result"
    },
    {
     "data": {
      "image/png": "[encoded data removed]",
      "text/plain": [
       "<matplotlib.figure.Figure at 0xda8bef0>"
      ]
     },
     "metadata": {},
     "output_type": "display_data"
    }
   ],
   "source": [
    "# Draw a nested barplot\n",
    "sns.set(style=\"whitegrid\")\n",
    "g = sns.factorplot(y=\"student_scoring_function\", x=\"agent_wins\", hue= 'opponent', data= match_results,\n",
    "                   kind=\"bar\", col= 'agent', palette=\"pastel\", orient= 'h')\n",
    "g.despine(left=True)\n",
    "g.set_ylabels(\"Student Scoring Function\")"
   ]
  },
  {
   "cell_type": "code",
   "execution_count": 64,
   "metadata": {
    "collapsed": false
   },
   "outputs": [
    {
     "data": {
      "text/plain": [
       "<seaborn.axisgrid.FacetGrid at 0xefbdfd0>"
      ]
     },
     "execution_count": 64,
     "metadata": {},
     "output_type": "execute_result"
    },
    {
     "data": {
      "image/png": "[encoded data removed]",
      "text/plain": [
       "<matplotlib.figure.Figure at 0xf043eb8>"
      ]
     },
     "metadata": {},
     "output_type": "display_data"
    }
   ],
   "source": [
    "# Draw a nested barplot\n",
    "sns.set(style=\"whitegrid\")\n",
    "g = sns.factorplot(y=\"opponent\", x=\"agent_wins\", data= match_results,\n",
    "                   kind=\"bar\", col= 'agent', palette=\"pastel\", orient= 'h')\n",
    "g.despine(left=True)\n",
    "g.set_ylabels(\"opponent\")"
   ]
  },
  {
   "cell_type": "code",
   "execution_count": 56,
   "metadata": {
    "collapsed": false
   },
   "outputs": [
    {
     "data": {
      "text/plain": [
       "<seaborn.axisgrid.FacetGrid at 0x105e0588>"
      ]
     },
     "execution_count": 56,
     "metadata": {},
     "output_type": "execute_result"
    },
    {
     "data": {
      "image/png": "[encoded data removed]",
      "text/plain": [
       "<matplotlib.figure.Figure at 0x10fec080>"
      ]
     },
     "metadata": {},
     "output_type": "display_data"
    }
   ],
   "source": [
    "# Draw a nested barplot\n",
    "sns.set(style=\"whitegrid\")\n",
    "f = sns.factorplot(y=\"opponent\", x=\"agent_wins\", hue= 'agent',data= match_results,\n",
    "                   kind=\"bar\", col= 'student_scoring_function',palette= test, orient= 'h')\n",
    "f.despine(left=True)\n",
    "f.set_ylabels(\"Opponent\", size= 16)\n",
    "f.set_xlabels(\"Agent Wins\", size= 16)"
   ]
  },
  {
   "cell_type": "code",
   "execution_count": 61,
   "metadata": {
    "collapsed": true
   },
   "outputs": [],
   "source": [
    "f.savefig('win_counts.png')"
   ]
  },
  {
   "cell_type": "code",
   "execution_count": 14,
   "metadata": {
    "collapsed": false
   },
   "outputs": [],
   "source": [
    "grouped_match= match_results.groupby(['agent','student_scoring_function', 'round']).sum()"
   ]
  },
  {
   "cell_type": "code",
   "execution_count": 15,
   "metadata": {
    "collapsed": false
   },
   "outputs": [
    {
     "data": {
      "text/html": [
       "<div>\n",
       "<table border=\"1\" class=\"dataframe\">\n",
       "  <thead>\n",
       "    <tr style=\"text-align: right;\">\n",
       "      <th></th>\n",
       "      <th></th>\n",
       "      <th></th>\n",
       "      <th>agent_wins</th>\n",
       "      <th>opponent_wins</th>\n",
       "      <th>total_matches</th>\n",
       "    </tr>\n",
       "    <tr>\n",
       "      <th>agent</th>\n",
       "      <th>student_scoring_function</th>\n",
       "      <th>round</th>\n",
       "      <th></th>\n",
       "      <th></th>\n",
       "      <th></th>\n",
       "    </tr>\n",
       "  </thead>\n",
       "  <tbody>\n",
       "    <tr>\n",
       "      <th rowspan=\"3\" valign=\"top\">ID_Improved</th>\n",
       "      <th>center_decay</th>\n",
       "      <th>3</th>\n",
       "      <td>521</td>\n",
       "      <td>179</td>\n",
       "      <td>700</td>\n",
       "    </tr>\n",
       "    <tr>\n",
       "      <th>center_weighted</th>\n",
       "      <th>2</th>\n",
       "      <td>484</td>\n",
       "      <td>216</td>\n",
       "      <td>700</td>\n",
       "    </tr>\n",
       "    <tr>\n",
       "      <th>weighted_moves</th>\n",
       "      <th>1</th>\n",
       "      <td>457</td>\n",
       "      <td>243</td>\n",
       "      <td>700</td>\n",
       "    </tr>\n",
       "    <tr>\n",
       "      <th rowspan=\"3\" valign=\"top\">Student</th>\n",
       "      <th>center_decay</th>\n",
       "      <th>3</th>\n",
       "      <td>553</td>\n",
       "      <td>147</td>\n",
       "      <td>700</td>\n",
       "    </tr>\n",
       "    <tr>\n",
       "      <th>center_weighted</th>\n",
       "      <th>2</th>\n",
       "      <td>503</td>\n",
       "      <td>197</td>\n",
       "      <td>700</td>\n",
       "    </tr>\n",
       "    <tr>\n",
       "      <th>weighted_moves</th>\n",
       "      <th>1</th>\n",
       "      <td>493</td>\n",
       "      <td>207</td>\n",
       "      <td>700</td>\n",
       "    </tr>\n",
       "  </tbody>\n",
       "</table>\n",
       "</div>"
      ],
      "text/plain": [
       "                                            agent_wins  opponent_wins  \\\n",
       "agent       student_scoring_function round                              \n",
       "ID_Improved center_decay             3             521            179   \n",
       "            center_weighted          2             484            216   \n",
       "            weighted_moves           1             457            243   \n",
       "Student     center_decay             3             553            147   \n",
       "            center_weighted          2             503            197   \n",
       "            weighted_moves           1             493            207   \n",
       "\n",
       "                                            total_matches  \n",
       "agent       student_scoring_function round                 \n",
       "ID_Improved center_decay             3                700  \n",
       "            center_weighted          2                700  \n",
       "            weighted_moves           1                700  \n",
       "Student     center_decay             3                700  \n",
       "            center_weighted          2                700  \n",
       "            weighted_moves           1                700  "
      ]
     },
     "execution_count": 15,
     "metadata": {},
     "output_type": "execute_result"
    }
   ],
   "source": [
    "grouped_match"
   ]
  },
  {
   "cell_type": "code",
   "execution_count": 16,
   "metadata": {
    "collapsed": false
   },
   "outputs": [],
   "source": [
    "match_counts= grouped_match.reset_index()\n",
    "match_counts= match_counts.sort_values(by= 'round')"
   ]
  },
  {
   "cell_type": "code",
   "execution_count": 17,
   "metadata": {
    "collapsed": false
   },
   "outputs": [
    {
     "data": {
      "text/html": [
       "<div>\n",
       "<table border=\"1\" class=\"dataframe\">\n",
       "  <thead>\n",
       "    <tr style=\"text-align: right;\">\n",
       "      <th></th>\n",
       "      <th>agent</th>\n",
       "      <th>student_scoring_function</th>\n",
       "      <th>round</th>\n",
       "      <th>agent_wins</th>\n",
       "      <th>opponent_wins</th>\n",
       "      <th>total_matches</th>\n",
       "    </tr>\n",
       "  </thead>\n",
       "  <tbody>\n",
       "    <tr>\n",
       "      <th>2</th>\n",
       "      <td>ID_Improved</td>\n",
       "      <td>weighted_moves</td>\n",
       "      <td>1</td>\n",
       "      <td>457</td>\n",
       "      <td>243</td>\n",
       "      <td>700</td>\n",
       "    </tr>\n",
       "    <tr>\n",
       "      <th>5</th>\n",
       "      <td>Student</td>\n",
       "      <td>weighted_moves</td>\n",
       "      <td>1</td>\n",
       "      <td>493</td>\n",
       "      <td>207</td>\n",
       "      <td>700</td>\n",
       "    </tr>\n",
       "    <tr>\n",
       "      <th>1</th>\n",
       "      <td>ID_Improved</td>\n",
       "      <td>center_weighted</td>\n",
       "      <td>2</td>\n",
       "      <td>484</td>\n",
       "      <td>216</td>\n",
       "      <td>700</td>\n",
       "    </tr>\n",
       "    <tr>\n",
       "      <th>4</th>\n",
       "      <td>Student</td>\n",
       "      <td>center_weighted</td>\n",
       "      <td>2</td>\n",
       "      <td>503</td>\n",
       "      <td>197</td>\n",
       "      <td>700</td>\n",
       "    </tr>\n",
       "    <tr>\n",
       "      <th>0</th>\n",
       "      <td>ID_Improved</td>\n",
       "      <td>center_decay</td>\n",
       "      <td>3</td>\n",
       "      <td>521</td>\n",
       "      <td>179</td>\n",
       "      <td>700</td>\n",
       "    </tr>\n",
       "    <tr>\n",
       "      <th>3</th>\n",
       "      <td>Student</td>\n",
       "      <td>center_decay</td>\n",
       "      <td>3</td>\n",
       "      <td>553</td>\n",
       "      <td>147</td>\n",
       "      <td>700</td>\n",
       "    </tr>\n",
       "  </tbody>\n",
       "</table>\n",
       "</div>"
      ],
      "text/plain": [
       "         agent student_scoring_function  round  agent_wins  opponent_wins  \\\n",
       "2  ID_Improved           weighted_moves      1         457            243   \n",
       "5      Student           weighted_moves      1         493            207   \n",
       "1  ID_Improved          center_weighted      2         484            216   \n",
       "4      Student          center_weighted      2         503            197   \n",
       "0  ID_Improved             center_decay      3         521            179   \n",
       "3      Student             center_decay      3         553            147   \n",
       "\n",
       "   total_matches  \n",
       "2            700  \n",
       "5            700  \n",
       "1            700  \n",
       "4            700  \n",
       "0            700  \n",
       "3            700  "
      ]
     },
     "execution_count": 17,
     "metadata": {},
     "output_type": "execute_result"
    }
   ],
   "source": [
    "match_counts"
   ]
  },
  {
   "cell_type": "code",
   "execution_count": 18,
   "metadata": {
    "collapsed": true
   },
   "outputs": [],
   "source": [
    "from statsmodels.stats.proportion import proportions_ztest"
   ]
  },
  {
   "cell_type": "code",
   "execution_count": 19,
   "metadata": {
    "collapsed": false
   },
   "outputs": [
    {
     "data": {
      "text/html": [
       "<div>\n",
       "<table border=\"1\" class=\"dataframe\">\n",
       "  <thead>\n",
       "    <tr style=\"text-align: right;\">\n",
       "      <th></th>\n",
       "      <th>agent</th>\n",
       "      <th>student_scoring_function</th>\n",
       "      <th>round</th>\n",
       "      <th>agent_wins</th>\n",
       "      <th>opponent_wins</th>\n",
       "      <th>total_matches</th>\n",
       "    </tr>\n",
       "  </thead>\n",
       "  <tbody>\n",
       "    <tr>\n",
       "      <th>2</th>\n",
       "      <td>ID_Improved</td>\n",
       "      <td>weighted_moves</td>\n",
       "      <td>1</td>\n",
       "      <td>457</td>\n",
       "      <td>243</td>\n",
       "      <td>700</td>\n",
       "    </tr>\n",
       "    <tr>\n",
       "      <th>5</th>\n",
       "      <td>Student</td>\n",
       "      <td>weighted_moves</td>\n",
       "      <td>1</td>\n",
       "      <td>493</td>\n",
       "      <td>207</td>\n",
       "      <td>700</td>\n",
       "    </tr>\n",
       "    <tr>\n",
       "      <th>1</th>\n",
       "      <td>ID_Improved</td>\n",
       "      <td>center_weighted</td>\n",
       "      <td>2</td>\n",
       "      <td>484</td>\n",
       "      <td>216</td>\n",
       "      <td>700</td>\n",
       "    </tr>\n",
       "    <tr>\n",
       "      <th>4</th>\n",
       "      <td>Student</td>\n",
       "      <td>center_weighted</td>\n",
       "      <td>2</td>\n",
       "      <td>503</td>\n",
       "      <td>197</td>\n",
       "      <td>700</td>\n",
       "    </tr>\n",
       "    <tr>\n",
       "      <th>0</th>\n",
       "      <td>ID_Improved</td>\n",
       "      <td>center_decay</td>\n",
       "      <td>3</td>\n",
       "      <td>521</td>\n",
       "      <td>179</td>\n",
       "      <td>700</td>\n",
       "    </tr>\n",
       "    <tr>\n",
       "      <th>3</th>\n",
       "      <td>Student</td>\n",
       "      <td>center_decay</td>\n",
       "      <td>3</td>\n",
       "      <td>553</td>\n",
       "      <td>147</td>\n",
       "      <td>700</td>\n",
       "    </tr>\n",
       "  </tbody>\n",
       "</table>\n",
       "</div>"
      ],
      "text/plain": [
       "         agent student_scoring_function  round  agent_wins  opponent_wins  \\\n",
       "2  ID_Improved           weighted_moves      1         457            243   \n",
       "5      Student           weighted_moves      1         493            207   \n",
       "1  ID_Improved          center_weighted      2         484            216   \n",
       "4      Student          center_weighted      2         503            197   \n",
       "0  ID_Improved             center_decay      3         521            179   \n",
       "3      Student             center_decay      3         553            147   \n",
       "\n",
       "   total_matches  \n",
       "2            700  \n",
       "5            700  \n",
       "1            700  \n",
       "4            700  \n",
       "0            700  \n",
       "3            700  "
      ]
     },
     "execution_count": 19,
     "metadata": {},
     "output_type": "execute_result"
    }
   ],
   "source": [
    "match_counts"
   ]
  },
  {
   "cell_type": "code",
   "execution_count": 20,
   "metadata": {
    "collapsed": false
   },
   "outputs": [
    {
     "data": {
      "text/plain": [
       "-36"
      ]
     },
     "execution_count": 20,
     "metadata": {},
     "output_type": "execute_result"
    }
   ],
   "source": [
    "457-493"
   ]
  },
  {
   "cell_type": "code",
   "execution_count": 21,
   "metadata": {
    "collapsed": false
   },
   "outputs": [
    {
     "data": {
      "text/plain": [
       "-19"
      ]
     },
     "execution_count": 21,
     "metadata": {},
     "output_type": "execute_result"
    }
   ],
   "source": [
    "484-503"
   ]
  },
  {
   "cell_type": "code",
   "execution_count": 22,
   "metadata": {
    "collapsed": false
   },
   "outputs": [
    {
     "data": {
      "text/plain": [
       "-32"
      ]
     },
     "execution_count": 22,
     "metadata": {},
     "output_type": "execute_result"
    }
   ],
   "source": [
    "521-553"
   ]
  },
  {
   "cell_type": "code",
   "execution_count": 23,
   "metadata": {
    "collapsed": false
   },
   "outputs": [
    {
     "data": {
      "text/plain": [
       "(6.1605038129130048, 7.2513869142401593e-10)"
      ]
     },
     "execution_count": 23,
     "metadata": {},
     "output_type": "execute_result"
    }
   ],
   "source": [
    "# returns zstat, pval\n",
    "proportions_ztest(36,700,0)"
   ]
  },
  {
   "cell_type": "code",
   "execution_count": 24,
   "metadata": {
    "collapsed": false
   },
   "outputs": [
    {
     "data": {
      "text/plain": [
       "(4.4192875885163536, 9.9026797620907775e-06)"
      ]
     },
     "execution_count": 24,
     "metadata": {},
     "output_type": "execute_result"
    }
   ],
   "source": [
    "proportions_ztest(19,700,0)"
   ]
  },
  {
   "cell_type": "code",
   "execution_count": 25,
   "metadata": {
    "collapsed": false
   },
   "outputs": [
    {
     "data": {
      "text/plain": [
       "(5.7907628281372849, 7.0067459938933635e-09)"
      ]
     },
     "execution_count": 25,
     "metadata": {},
     "output_type": "execute_result"
    }
   ],
   "source": [
    "proportions_ztest(32,700,0)"
   ]
  },
  {
   "cell_type": "code",
   "execution_count": null,
   "metadata": {
    "collapsed": true
   },
   "outputs": [],
   "source": []
  }
 ],
 "metadata": {
  "anaconda-cloud": {},
  "kernelspec": {
   "display_name": "Python [conda root]",
   "language": "python",
   "name": "conda-root-py"
  },
  "language_info": {
   "codemirror_mode": {
    "name": "ipython",
    "version": 2
   },
   "file_extension": ".py",
   "mimetype": "text/x-python",
   "name": "python",
   "nbconvert_exporter": "python",
   "pygments_lexer": "ipython2",
   "version": "2.7.12"
  }
 },
 "nbformat": 4,
 "nbformat_minor": 1
}
